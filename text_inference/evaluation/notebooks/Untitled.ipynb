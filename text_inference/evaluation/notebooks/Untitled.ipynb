{
 "cells": [
  {
   "cell_type": "code",
   "execution_count": 1,
   "id": "41d8e202",
   "metadata": {},
   "outputs": [],
   "source": [
    "from Levenshtein import distance"
   ]
  },
  {
   "cell_type": "code",
   "execution_count": 2,
   "id": "46f63c70",
   "metadata": {},
   "outputs": [
    {
     "data": {
      "text/plain": [
       "2"
      ]
     },
     "execution_count": 2,
     "metadata": {},
     "output_type": "execute_result"
    }
   ],
   "source": [
    "distance(\"lewenstein\", \"levenshtein\")"
   ]
  },
  {
   "cell_type": "code",
   "execution_count": 9,
   "id": "de1f2eef",
   "metadata": {},
   "outputs": [
    {
     "name": "stderr",
     "output_type": "stream",
     "text": [
      "Cleaning Progress: 100%|██████████| 1/1 [00:00<00:00, 346.87it/s]\n"
     ]
    }
   ],
   "source": [
    "import spacy\n",
    "from spacy_cleaner import Cleaner\n",
    "\n",
    "texts = [\"I won £1000\"]\n",
    "nlp = spacy.load(\"en_core_web_sm\")\n",
    "cleaner = Cleaner(nlp, remove_numbers=False, remove_pos=['SYM','ADP','AUX','VERB'])\n",
    "clean_texts = cleaner.clean(texts, disable=[\"ner\"])"
   ]
  },
  {
   "cell_type": "code",
   "execution_count": 10,
   "id": "1dcd92cd",
   "metadata": {},
   "outputs": [
    {
     "data": {
      "text/plain": [
       "['1000']"
      ]
     },
     "execution_count": 10,
     "metadata": {},
     "output_type": "execute_result"
    }
   ],
   "source": [
    "clean_texts"
   ]
  },
  {
   "cell_type": "code",
   "execution_count": null,
   "id": "53f0c771",
   "metadata": {},
   "outputs": [],
   "source": []
  }
 ],
 "metadata": {
  "kernelspec": {
   "display_name": "Python 3",
   "language": "python",
   "name": "python3"
  },
  "language_info": {
   "codemirror_mode": {
    "name": "ipython",
    "version": 3
   },
   "file_extension": ".py",
   "mimetype": "text/x-python",
   "name": "python",
   "nbconvert_exporter": "python",
   "pygments_lexer": "ipython3",
   "version": "3.8.5"
  }
 },
 "nbformat": 4,
 "nbformat_minor": 5
}
