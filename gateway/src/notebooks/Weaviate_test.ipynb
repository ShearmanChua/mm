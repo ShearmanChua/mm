{
 "cells": [
  {
   "cell_type": "markdown",
   "id": "1b6ae108",
   "metadata": {},
   "source": [
    "# Initialisation"
   ]
  },
  {
   "cell_type": "code",
   "execution_count": 1,
   "id": "08741429",
   "metadata": {},
   "outputs": [
    {
     "name": "stderr",
     "output_type": "stream",
     "text": [
      "/usr/local/lib/python3.8/site-packages/tqdm/auto.py:22: TqdmWarning: IProgress not found. Please update jupyter and ipywidgets. See https://ipywidgets.readthedocs.io/en/stable/user_install.html\n",
      "  from .autonotebook import tqdm as notebook_tqdm\n"
     ]
    }
   ],
   "source": [
    "from utils.WeaviateManager import VectorManager"
   ]
  },
  {
   "cell_type": "code",
   "execution_count": 2,
   "id": "2810f28c",
   "metadata": {},
   "outputs": [],
   "source": [
    "client = VectorManager()"
   ]
  },
  {
   "cell_type": "markdown",
   "id": "6a2113f8",
   "metadata": {},
   "source": [
    "# Create Collection"
   ]
  },
  {
   "cell_type": "code",
   "execution_count": 3,
   "id": "15fad159",
   "metadata": {},
   "outputs": [
    {
     "data": {
      "text/plain": [
       "{'response': 'Unknown data type in the field'}"
      ]
     },
     "execution_count": 3,
     "metadata": {},
     "output_type": "execute_result"
    }
   ],
   "source": [
    "# Test 1.1 Attempt to create collection with nested schema - error\n",
    "\n",
    "user_schema = {\n",
    "    \"id_no\":\"str\",\n",
    "    \"age\":\"int\",\n",
    "    \"education\":{\n",
    "        \"primary\":{\n",
    "            \"school\":\"str\"\n",
    "        },\n",
    "        \"secondary\":\"str\",\n",
    "        \"tertiary\":\"str\"\n",
    "    }\n",
    "}\n",
    "collection_name = 'Faces'\n",
    "\n",
    "client.create_collection(collection_name, user_schema)"
   ]
  },
  {
   "cell_type": "code",
   "execution_count": 4,
   "id": "9ca5657a",
   "metadata": {},
   "outputs": [
    {
     "data": {
      "text/plain": [
       "{'response': 'Unknown data type in the field'}"
      ]
     },
     "execution_count": 4,
     "metadata": {},
     "output_type": "execute_result"
    }
   ],
   "source": [
    "# Test 1.2 Attempt to create collection with invalid data type - error\n",
    "\n",
    "user_schema = {\n",
    "    \"id_no\":\"str\",\n",
    "    \"age\":\"int\",\n",
    "    \"education\": \"Unknown Object\"\n",
    "}\n",
    "collection_name = 'Faces'\n",
    "\n",
    "client.create_collection(collection_name, user_schema)"
   ]
  },
  {
   "cell_type": "code",
   "execution_count": 5,
   "id": "ace7886c",
   "metadata": {},
   "outputs": [
    {
     "name": "stdout",
     "output_type": "stream",
     "text": [
      "200\n",
      "200\n",
      "Unknown error with error message -> Create class! Unexpected status code: 422, with response body: {'error': [{'message': \"Name 'Faces' already used as a name for an Object class\"}]}\n"
     ]
    }
   ],
   "source": [
    "# Test 1.3 Attempt to create collection with data type\n",
    "\n",
    "user_schema = {\n",
    "    \"id_no\":\"str\",\n",
    "    \"age\":\"int\",\n",
    "}\n",
    "collection_name = 'Faces'\n",
    "print(client.delete_collection(collection_name)['response'])\n",
    "print(client.create_collection(collection_name, user_schema)['response'])\n",
    "\n",
    "# Test 1.4 Attempt to create collection with the name collection name - error\n",
    "user_schema = {\n",
    "    \"id_no\":\"str\",\n",
    "    \"age\":\"int\",\n",
    "}\n",
    "collection_name = 'Faces'\n",
    "\n",
    "print(client.create_collection(collection_name, user_schema)['response'])"
   ]
  },
  {
   "cell_type": "markdown",
   "id": "dbd716c1",
   "metadata": {},
   "source": [
    "# Create Document"
   ]
  },
  {
   "cell_type": "code",
   "execution_count": 6,
   "id": "8c914d9e",
   "metadata": {},
   "outputs": [],
   "source": [
    "import torch"
   ]
  },
  {
   "cell_type": "code",
   "execution_count": 7,
   "id": "dd8c7d1b",
   "metadata": {},
   "outputs": [
    {
     "data": {
      "text/plain": [
       "'Creating object! Unexpected status code: 422, with response body: {\\'error\\': [{\\'message\\': \"invalid object: invalid integer property \\'age\\' on class \\'Faces\\': requires an integer, the given value is \\'1\\'\"}]}'"
      ]
     },
     "execution_count": 7,
     "metadata": {},
     "output_type": "execute_result"
    }
   ],
   "source": [
    "# Test 2.1 Attempt to create with data that does not abide the schema - error\n",
    "data_obj = {\n",
    "    \"id_no\": \"1\",\n",
    "    \"age\": \"1\"\n",
    "}\n",
    "face_emb = torch.rand(1, 5)\n",
    "client.create_document(collection_name = 'Faces', properties = data_obj, embedding = face_emb)['response']"
   ]
  },
  {
   "cell_type": "code",
   "execution_count": 8,
   "id": "35440edd",
   "metadata": {},
   "outputs": [
    {
     "name": "stdout",
     "output_type": "stream",
     "text": [
      "200\n",
      "200\n",
      "200\n",
      "200\n",
      "200\n",
      "200\n",
      "200\n",
      "200\n",
      "200\n",
      "200\n"
     ]
    }
   ],
   "source": [
    "# Test 2.2 Attempt to create with original data field\n",
    "for id_no in range(10):\n",
    "    face_emb = torch.rand(1, 5)\n",
    "    if len(face_emb) != 0:\n",
    "        data_obj = {\n",
    "            \"id_no\": \"{}\".format(id_no),\n",
    "            \"age\": id_no\n",
    "        }\n",
    "    print(client.create_document(collection_name = 'Faces', properties = data_obj, embedding = face_emb)['response'])"
   ]
  },
  {
   "cell_type": "code",
   "execution_count": 9,
   "id": "034aa46c",
   "metadata": {},
   "outputs": [
    {
     "data": {
      "text/plain": [
       "{'response': '200'}"
      ]
     },
     "execution_count": 9,
     "metadata": {},
     "output_type": "execute_result"
    }
   ],
   "source": [
    "# Test 2.3 Attempt to create with new data field\n",
    "data_obj = {\n",
    "    \"id_no\": \"11\",\n",
    "    \"new\": \"2\"\n",
    "}\n",
    "face_emb = torch.Tensor([0.5766745, 0.9341823, 0.7021697, 0.54776406, 0.013553977])\n",
    "client.create_document(collection_name = 'Faces', properties = data_obj, embedding = face_emb)"
   ]
  },
  {
   "cell_type": "code",
   "execution_count": 10,
   "id": "df4a2cc9",
   "metadata": {},
   "outputs": [
    {
     "data": {
      "text/plain": [
       "{'response': 'This id already existed please use update instead'}"
      ]
     },
     "execution_count": 10,
     "metadata": {},
     "output_type": "execute_result"
    }
   ],
   "source": [
    "# Test 2.4 Attempt to create data_object with the same name -> error\n",
    "data_obj = {\n",
    "    \"id_no\": \"11\",\n",
    "    \"new\": \"2\"\n",
    "}\n",
    "face_emb = torch.rand(1, 5)\n",
    "client.create_document(collection_name = 'Faces', properties = data_obj, embedding = face_emb)"
   ]
  },
  {
   "cell_type": "code",
   "execution_count": 11,
   "id": "239c930d",
   "metadata": {},
   "outputs": [
    {
     "data": {
      "text/plain": [
       "{'response': 'Mistmatch vector length, creation failed'}"
      ]
     },
     "execution_count": 11,
     "metadata": {},
     "output_type": "execute_result"
    }
   ],
   "source": [
    "# Test 2.5 Attempt to create data_object with different embedding length -> error\n",
    "data_obj = {\n",
    "    \"id_no\": \"12\",\n",
    "    \"age\": 12\n",
    "}\n",
    "face_emb = torch.rand(1, 10)\n",
    "client.create_document(collection_name = 'Faces', properties = data_obj, embedding = face_emb)"
   ]
  },
  {
   "cell_type": "markdown",
   "id": "06b5db2e",
   "metadata": {},
   "source": [
    "# Read Document"
   ]
  },
  {
   "cell_type": "code",
   "execution_count": 12,
   "id": "941ed8d2",
   "metadata": {},
   "outputs": [
    {
     "data": {
      "text/plain": [
       "{'response': 'Attempt to read a non-existent document. No reading is done'}"
      ]
     },
     "execution_count": 12,
     "metadata": {},
     "output_type": "execute_result"
    }
   ],
   "source": [
    "# 3.2 Attempt to read a non existent document id number -> error\n",
    "\n",
    "client.read_document(collection_name, \"100\")"
   ]
  },
  {
   "cell_type": "code",
   "execution_count": 13,
   "id": "76e7de20",
   "metadata": {},
   "outputs": [
    {
     "data": {
      "text/plain": [
       "{'response': 'Attempt to read a non-existent document. No reading is done'}"
      ]
     },
     "execution_count": 13,
     "metadata": {},
     "output_type": "execute_result"
    }
   ],
   "source": [
    "# 3.2 Attempt to read a non existent collection -> error\n",
    "\n",
    "client.read_document('Non-existence', \"1\")"
   ]
  },
  {
   "cell_type": "code",
   "execution_count": 14,
   "id": "53989959",
   "metadata": {},
   "outputs": [
    {
     "data": {
      "text/plain": [
       "{'response': {'class': 'Faces',\n",
       "  'creationTimeUnix': 1671087077726,\n",
       "  'id': '258953ae-4aad-43dc-aa9d-5f74bf38dfc4',\n",
       "  'lastUpdateTimeUnix': 1671087077726,\n",
       "  'properties': {'age': 1, 'id_no': '1'},\n",
       "  'vector': [0.14229017, 0.43621045, 0.3271194, 0.9458164, 0.36649644],\n",
       "  'vectorWeights': None}}"
      ]
     },
     "execution_count": 14,
     "metadata": {},
     "output_type": "execute_result"
    }
   ],
   "source": [
    "# 3.3 Attempt to read one of the file in 2.2\n",
    "\n",
    "client.read_document(collection_name, \"1\")"
   ]
  },
  {
   "cell_type": "code",
   "execution_count": 15,
   "id": "acffef5f",
   "metadata": {},
   "outputs": [
    {
     "data": {
      "text/plain": [
       "{'response': {'class': 'Faces',\n",
       "  'creationTimeUnix': 1671087077765,\n",
       "  'id': '156443f7-df34-479e-8274-59833a1655ef',\n",
       "  'lastUpdateTimeUnix': 1671087077765,\n",
       "  'properties': {'id_no': '11', 'new': '2'},\n",
       "  'vector': [0.5766745, 0.9341823, 0.7021697, 0.54776406, 0.013553977],\n",
       "  'vectorWeights': None}}"
      ]
     },
     "execution_count": 15,
     "metadata": {},
     "output_type": "execute_result"
    }
   ],
   "source": [
    "# 3.3 Attempt to read one of the file in 2.3\n",
    "\n",
    "client.read_document(collection_name, \"11\")"
   ]
  },
  {
   "cell_type": "code",
   "execution_count": 16,
   "id": "0900d603",
   "metadata": {},
   "outputs": [
    {
     "data": {
      "text/plain": [
       "{'response': [{'response': {'class': 'Faces',\n",
       "    'creationTimeUnix': 1671087077765,\n",
       "    'id': '156443f7-df34-479e-8274-59833a1655ef',\n",
       "    'lastUpdateTimeUnix': 1671087077765,\n",
       "    'properties': {'id_no': '11', 'new': '2'},\n",
       "    'vector': [0.5766745, 0.9341823, 0.7021697, 0.54776406, 0.013553977],\n",
       "    'vectorWeights': None},\n",
       "   'certainty': 0.9999999403953552}]}"
      ]
     },
     "execution_count": 16,
     "metadata": {},
     "output_type": "execute_result"
    }
   ],
   "source": [
    "# 3.4 Attempt to read document nearest to the embedding\n",
    "\n",
    "embedding = torch.Tensor([0.5766745, 0.9341823, 0.7021697, 0.54776406, 0.013553977])\n",
    "\n",
    "client.get_top_k(collection_name, embedding)"
   ]
  },
  {
   "cell_type": "code",
   "execution_count": 17,
   "id": "26ce66d8",
   "metadata": {},
   "outputs": [
    {
     "data": {
      "text/plain": [
       "{'response': [{'response': {'class': 'Faces',\n",
       "    'creationTimeUnix': 1671087077765,\n",
       "    'id': '156443f7-df34-479e-8274-59833a1655ef',\n",
       "    'lastUpdateTimeUnix': 1671087077765,\n",
       "    'properties': {'id_no': '11', 'new': '2'},\n",
       "    'vector': [0.5766745, 0.9341823, 0.7021697, 0.54776406, 0.013553977],\n",
       "    'vectorWeights': None},\n",
       "   'certainty': 0.9999999403953552},\n",
       "  {'response': {'class': 'Faces',\n",
       "    'creationTimeUnix': 1671087077751,\n",
       "    'id': 'e999d2c4-22cb-420b-b114-52ecaf97f7e5',\n",
       "    'lastUpdateTimeUnix': 1671087077751,\n",
       "    'properties': {'age': 8, 'id_no': '8'},\n",
       "    'vector': [0.3250035, 0.38524753, 0.38620043, 0.4955626, 0.06325245],\n",
       "    'vectorWeights': None},\n",
       "   'certainty': 0.97750523686409},\n",
       "  {'response': {'class': 'Faces',\n",
       "    'creationTimeUnix': 1671087077754,\n",
       "    'id': 'fba70226-d09a-4403-ad9d-d8cb00058a2a',\n",
       "    'lastUpdateTimeUnix': 1671087077754,\n",
       "    'properties': {'age': 9, 'id_no': '9'},\n",
       "    'vector': [0.44360954, 0.9544769, 0.73395604, 0.38870186, 0.5922022],\n",
       "    'vectorWeights': None},\n",
       "   'certainty': 0.9545671939849854}]}"
      ]
     },
     "execution_count": 17,
     "metadata": {},
     "output_type": "execute_result"
    }
   ],
   "source": [
    "# 3.5 Attempt to read top k document nearer to the embedding\n",
    "\n",
    "embedding = torch.Tensor([0.5766745, 0.9341823, 0.7021697, 0.54776406, 0.013553977])\n",
    "\n",
    "client.get_top_k(collection_name, embedding, 3)"
   ]
  },
  {
   "cell_type": "code",
   "execution_count": 19,
   "id": "788aff44",
   "metadata": {},
   "outputs": [
    {
     "data": {
      "text/plain": [
       "{'response': [{'locations': [{'column': 6, 'line': 1}],\n",
       "   'message': \"explorer: get class: vector search: object vector search at index faces: shard faces_RGNS7TtEBkmW: vector search: knn search: distance between entrypoint and query node: vector lengths don't match: 5 vs 4\",\n",
       "   'path': ['Get', 'Faces']}]}"
      ]
     },
     "execution_count": 19,
     "metadata": {},
     "output_type": "execute_result"
    }
   ],
   "source": [
    "# 3.6 Attempt to read top k document nearer to the wrong embedding -> error\n",
    "\n",
    "embedding = torch.Tensor([0.5766745, 0.9341823, 0.7021697, 0.54776406])\n",
    "\n",
    "client.get_top_k(collection_name, embedding, 10)"
   ]
  },
  {
   "cell_type": "markdown",
   "id": "c981c2e1",
   "metadata": {},
   "source": [
    "# Update"
   ]
  },
  {
   "cell_type": "code",
   "execution_count": 20,
   "id": "f90cc8cb",
   "metadata": {},
   "outputs": [
    {
     "data": {
      "text/plain": [
       "{'response': \"Only dict_keys(['id_no']) is found which insufficient to update\"}"
      ]
     },
     "execution_count": 20,
     "metadata": {},
     "output_type": "execute_result"
    }
   ],
   "source": [
    "# 4.1 Attempt to update non-existence id -> error\n",
    "\n",
    "update = {\n",
    "    'id_no': '12',\n",
    "}\n",
    "\n",
    "client.update_document(collection_name, update)"
   ]
  },
  {
   "cell_type": "code",
   "execution_count": 21,
   "id": "0323af38",
   "metadata": {},
   "outputs": [
    {
     "name": "stdout",
     "output_type": "stream",
     "text": [
      "{'response': {'class': 'Faces', 'creationTimeUnix': 1671087077729, 'id': 'caca7778-f909-44b1-8ac7-18463c3f7221', 'lastUpdateTimeUnix': 1671087077729, 'properties': {'age': 2, 'id_no': '2'}, 'vector': [0.23623401, 0.016892731, 0.4515667, 0.45330882, 0.34699374], 'vectorWeights': None}}\n",
      "{'response': {'class': 'Faces', 'creationTimeUnix': 1671087077729, 'id': 'caca7778-f909-44b1-8ac7-18463c3f7221', 'lastUpdateTimeUnix': 1671087145732, 'properties': {'age': 2, 'id_no': '2'}, 'vector': [0.23623401, 0.016892731, 0.4515667, 0.45330882, 0.34699374], 'vectorWeights': None}}\n"
     ]
    }
   ],
   "source": [
    "# 4.2 Attempt to update with different vector dimension -> error\n",
    "\n",
    "update = {\n",
    "    'id_no': '2',\n",
    "    'vector': torch.rand(1, 3),\n",
    "}\n",
    "\n",
    "print(client.read_document(collection_name, \"2\"))\n",
    "client.update_document(collection_name, update)\n",
    "print(client.read_document(collection_name, \"2\"))"
   ]
  },
  {
   "cell_type": "code",
   "execution_count": 22,
   "id": "22c8c37f",
   "metadata": {},
   "outputs": [
    {
     "name": "stdout",
     "output_type": "stream",
     "text": [
      "{'response': {'class': 'Faces', 'creationTimeUnix': 1671087077729, 'id': 'caca7778-f909-44b1-8ac7-18463c3f7221', 'lastUpdateTimeUnix': 1671087145732, 'properties': {'age': 2, 'id_no': '2'}, 'vector': [0.23623401, 0.016892731, 0.4515667, 0.45330882, 0.34699374], 'vectorWeights': None}}\n",
      "{'response': {'class': 'Faces', 'creationTimeUnix': 1671087077729, 'id': 'caca7778-f909-44b1-8ac7-18463c3f7221', 'lastUpdateTimeUnix': 1671087145732, 'properties': {'age': 2, 'id_no': '2'}, 'vector': [0.23623401, 0.016892731, 0.4515667, 0.45330882, 0.34699374], 'vectorWeights': None}}\n"
     ]
    }
   ],
   "source": [
    "# 4.3 Attempt to update with new field -> error\n",
    "\n",
    "update = {\n",
    "    'id_no': '2',\n",
    "    'vector': torch.rand(1, 5),\n",
    "    'non-known': 1\n",
    "}\n",
    "print(client.read_document(collection_name, \"2\"))\n",
    "client.update_document(collection_name, update)\n",
    "print(client.read_document(collection_name, \"2\"))"
   ]
  },
  {
   "cell_type": "code",
   "execution_count": 23,
   "id": "eff1f0e7",
   "metadata": {},
   "outputs": [
    {
     "data": {
      "text/plain": [
       "{'response': \"Only dict_keys(['id_no']) is found which insufficient to update\"}"
      ]
     },
     "execution_count": 23,
     "metadata": {},
     "output_type": "execute_result"
    }
   ],
   "source": [
    "# 4.4 Attempt to update with only id -> error\n",
    "\n",
    "update = {\n",
    "    'id_no': '2',\n",
    "}\n",
    "\n",
    "client.update_document(collection_name, update)"
   ]
  },
  {
   "cell_type": "code",
   "execution_count": 24,
   "id": "87b7a2a3",
   "metadata": {},
   "outputs": [
    {
     "data": {
      "text/plain": [
       "{'response': 'Update of the object not successful! Unexpected status code: 422, with response body: {\\'error\\': [{\\'message\\': \"msg:bad request code:400 err:invalid integer property \\'age\\' on class \\'Faces\\': requires an integer, the given value is \\'2\\'\"}]}'}"
      ]
     },
     "execution_count": 24,
     "metadata": {},
     "output_type": "execute_result"
    }
   ],
   "source": [
    "# 4.5 Attempt to update age with wrong data type -> error\n",
    "\n",
    "update = {\n",
    "    'id_no': '2',\n",
    "    'age': '2'\n",
    "}\n",
    "\n",
    "client.update_document(collection_name, update)"
   ]
  },
  {
   "cell_type": "code",
   "execution_count": 25,
   "id": "f8dbed07",
   "metadata": {},
   "outputs": [
    {
     "name": "stdout",
     "output_type": "stream",
     "text": [
      "{'response': {'class': 'Faces', 'creationTimeUnix': 1671087077729, 'id': 'caca7778-f909-44b1-8ac7-18463c3f7221', 'lastUpdateTimeUnix': 1671087145732, 'properties': {'age': 2, 'id_no': '2'}, 'vector': [0.23623401, 0.016892731, 0.4515667, 0.45330882, 0.34699374], 'vectorWeights': None}}\n",
      "{'response': {'class': 'Faces', 'creationTimeUnix': 1671087077729, 'id': 'caca7778-f909-44b1-8ac7-18463c3f7221', 'lastUpdateTimeUnix': 1671087150734, 'properties': {'age': 100, 'id_no': '2'}, 'vector': [0.23623401, 0.016892731, 0.4515667, 0.45330882, 0.34699374], 'vectorWeights': None}}\n"
     ]
    }
   ],
   "source": [
    "# 4.6 Attempt to update age with right data type\n",
    "\n",
    "update = {\n",
    "    'id_no': '2',\n",
    "    'age': 100\n",
    "}\n",
    "print(client.read_document(collection_name, \"2\"))\n",
    "client.update_document(collection_name, update)\n",
    "print(client.read_document(collection_name, \"2\"))"
   ]
  },
  {
   "cell_type": "code",
   "execution_count": 26,
   "id": "6d6b15bd",
   "metadata": {},
   "outputs": [
    {
     "name": "stdout",
     "output_type": "stream",
     "text": [
      "{'response': {'class': 'Faces', 'creationTimeUnix': 1671087077729, 'id': 'caca7778-f909-44b1-8ac7-18463c3f7221', 'lastUpdateTimeUnix': 1671087150734, 'properties': {'age': 100, 'id_no': '2'}, 'vector': [0.23623401, 0.016892731, 0.4515667, 0.45330882, 0.34699374], 'vectorWeights': None}}\n",
      "{'response': {'class': 'Faces', 'creationTimeUnix': 1671087077729, 'id': 'caca7778-f909-44b1-8ac7-18463c3f7221', 'lastUpdateTimeUnix': 1671087152168, 'properties': {'age': 100, 'id_no': '2'}, 'vector': [0.5929948, 0.53583974, 0.8198866, 0.24992085, 0.6878032], 'vectorWeights': None}}\n"
     ]
    }
   ],
   "source": [
    "# 4.6 Attempt to update vector only\n",
    "\n",
    "update = {\n",
    "    'id_no': '2',\n",
    "    'vector': torch.rand(1, 5).numpy(),\n",
    "}\n",
    "print(client.read_document(collection_name, \"2\"))\n",
    "client.update_document(collection_name, update)\n",
    "print(client.read_document(collection_name, \"2\"))"
   ]
  },
  {
   "cell_type": "markdown",
   "id": "4716ccd3",
   "metadata": {},
   "source": [
    "# Delete"
   ]
  },
  {
   "cell_type": "code",
   "execution_count": 27,
   "id": "c788ec61",
   "metadata": {},
   "outputs": [
    {
     "data": {
      "text/plain": [
       "{'response': 'Attempt to read a non-existent document. No reading is done'}"
      ]
     },
     "execution_count": 27,
     "metadata": {},
     "output_type": "execute_result"
    }
   ],
   "source": [
    "# 5.1 Delete document\n",
    "\n",
    "client.delete_document(collection_name, \"2\")\n",
    "client.read_document(collection_name, \"2\")"
   ]
  },
  {
   "cell_type": "code",
   "execution_count": 28,
   "id": "c0d5f6c4",
   "metadata": {},
   "outputs": [
    {
     "data": {
      "text/plain": [
       "{'response': 'id: 2 is not found'}"
      ]
     },
     "execution_count": 28,
     "metadata": {},
     "output_type": "execute_result"
    }
   ],
   "source": [
    "# 5.2 Delete a nonexistence document -> error\n",
    "\n",
    "client.delete_document(collection_name, \"2\")"
   ]
  },
  {
   "cell_type": "code",
   "execution_count": 29,
   "id": "699188b7",
   "metadata": {},
   "outputs": [
    {
     "data": {
      "text/plain": [
       "{'response': 'Attempt to read a non-existent document. No reading is done'}"
      ]
     },
     "execution_count": 29,
     "metadata": {},
     "output_type": "execute_result"
    }
   ],
   "source": [
    "# 5.3 Delete collection\n",
    "\n",
    "client.delete_collection(collection_name)\n",
    "client.read_document(collection_name, \"1\")"
   ]
  },
  {
   "cell_type": "code",
   "execution_count": 30,
   "id": "7665c106",
   "metadata": {},
   "outputs": [
    {
     "data": {
      "text/plain": [
       "{'response': 'Delete class from schema! Unexpected status code: 400, with response body: {\\'error\\': [{\\'message\\': \"could not find class \\'Faces\\'\"}]}'}"
      ]
     },
     "execution_count": 30,
     "metadata": {},
     "output_type": "execute_result"
    }
   ],
   "source": [
    "# 5.4 Delete non existence collection -> error\n",
    "\n",
    "client.delete_collection(collection_name)"
   ]
  },
  {
   "cell_type": "code",
   "execution_count": null,
   "id": "83b43f72",
   "metadata": {},
   "outputs": [],
   "source": []
  }
 ],
 "metadata": {
  "kernelspec": {
   "display_name": "Python 3 (ipykernel)",
   "language": "python",
   "name": "python3"
  },
  "language_info": {
   "codemirror_mode": {
    "name": "ipython",
    "version": 3
   },
   "file_extension": ".py",
   "mimetype": "text/x-python",
   "name": "python",
   "nbconvert_exporter": "python",
   "pygments_lexer": "ipython3",
   "version": "3.8.10"
  },
  "vscode": {
   "interpreter": {
    "hash": "31f2aee4e71d21fbe5cf8b01ff0e069b9275f58929596ceb00d14d90e3e16cd6"
   }
  }
 },
 "nbformat": 4,
 "nbformat_minor": 5
}
